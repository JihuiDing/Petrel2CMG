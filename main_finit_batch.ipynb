{
 "cells": [
  {
   "cell_type": "code",
   "execution_count": 1,
   "metadata": {},
   "outputs": [
    {
     "name": "stdout",
     "output_type": "stream",
     "text": [
      "Total FINIT files copied: 2\n"
     ]
    }
   ],
   "source": [
    "from pathlib import Path\n",
    "import shutil # shutil is still useful for high-level file operations like copy2\n",
    "\n",
    "src_root = Path('data/sim_cases')\n",
    "dst_root = Path('data/finit_files')\n",
    "\n",
    "# Create destination directory if it doesn't exist\n",
    "dst_root.mkdir(parents=True, exist_ok=True) # pathlib's mkdir is very convenient\n",
    "\n",
    "finit_file_names = []\n",
    "\n",
    "# Iterate through each simulation case folder\n",
    "# Using .iterdir() directly on the Path object\n",
    "for case_path in src_root.iterdir():\n",
    "    # .is_dir() is a method on Path objects\n",
    "    if case_path.is_dir():\n",
    "        # Find the finit file (case-insensitive, endswith .FINIT)\n",
    "        # Iterate over files within the case_path directory\n",
    "        for src_file in case_path.iterdir():\n",
    "            # .is_file() to ensure it's a file, not a subdirectory\n",
    "            # .suffix gives the extension, .upper() for case-insensitivity\n",
    "            if src_file.is_file() and src_file.suffix.upper() == '.FINIT':\n",
    "                # .name gives just the filename (e.g., 'CASE_A.FINIT')\n",
    "                dst_file = dst_root / src_file.name # Use / operator to join Path objects\n",
    "                shutil.copy2(src_file, dst_file)\n",
    "                finit_file_names.append(src_file.name) # Append the file name\n",
    "\n",
    "# Print the list of finit file names\n",
    "# print('Copied FINIT files:')\n",
    "# for fname in finit_file_names:\n",
    "#     print(fname)\n",
    "print(f'Total FINIT files copied: {len(finit_file_names)}')"
   ]
  },
  {
   "cell_type": "code",
   "execution_count": 2,
   "metadata": {},
   "outputs": [
    {
     "data": {
      "text/plain": [
       "['JD_BASECASE_2.FINIT', 'JD_BASECASE_1.FINIT']"
      ]
     },
     "execution_count": 2,
     "metadata": {},
     "output_type": "execute_result"
    }
   ],
   "source": [
    "finit_file_names"
   ]
  },
  {
   "cell_type": "code",
   "execution_count": 3,
   "metadata": {},
   "outputs": [
    {
     "name": "stdout",
     "output_type": "stream",
     "text": [
      "\n",
      "============================================================\n",
      "COMPRESSED PORO SUMMARY\n",
      "============================================================\n",
      "Compressed 989,001 values into 54969 lines\n",
      "Compression ratio: 18.0:1\n",
      "Total cells: 989,001\n",
      "PORO - Mean: 0.082804\n",
      "PORO - Min: 0.000000\n",
      "PORO - Max: 0.399547\n",
      "Saved compressed PORO data to: results/properties/JD_BASECASE_2_PORO.dat\n",
      "\n",
      "============================================================\n",
      "COMPRESSED PERMX SUMMARY\n",
      "============================================================\n",
      "Compressed 989,001 values into 39237 lines\n",
      "Compression ratio: 25.2:1\n",
      "Total cells: 989,001\n",
      "PERMX - Mean: 87.341081\n",
      "PERMX - Min: 0.000000\n",
      "PERMX - Max: 5000.000000\n",
      "Saved compressed PERMX data to: results/properties/JD_BASECASE_2_PERMX.dat\n",
      "\n",
      "============================================================\n",
      "COMPRESSED PORO SUMMARY\n",
      "============================================================\n",
      "Compressed 989,001 values into 54969 lines\n",
      "Compression ratio: 18.0:1\n",
      "Total cells: 989,001\n",
      "PORO - Mean: 0.082804\n",
      "PORO - Min: 0.000000\n",
      "PORO - Max: 0.399547\n",
      "Saved compressed PORO data to: results/properties/JD_BASECASE_1_PORO.dat\n",
      "\n",
      "============================================================\n",
      "COMPRESSED PERMX SUMMARY\n",
      "============================================================\n",
      "Compressed 989,001 values into 39237 lines\n",
      "Compression ratio: 25.2:1\n",
      "Total cells: 989,001\n",
      "PERMX - Mean: 87.341081\n",
      "PERMX - Min: 0.000000\n",
      "PERMX - Max: 5000.000000\n",
      "Saved compressed PERMX data to: results/properties/JD_BASECASE_1_PERMX.dat\n"
     ]
    }
   ],
   "source": [
    "from pathlib import Path\n",
    "from extract_properties_from_finit import extract_properties_from_finit\n",
    "from generate_full_properties import generate_full_properties\n",
    "from CMG_format_compress import CMG_format_compress\n",
    "\n",
    "finit_dir = 'data/finit_files'\n",
    "save_dir = 'results/properties'\n",
    "\n",
    "finit_dir = Path(finit_dir)\n",
    "save_dir = Path(save_dir)\n",
    "save_dir.mkdir(exist_ok=True)\n",
    "\n",
    "for finit_file_name in finit_file_names:\n",
    "    finit_file_path = finit_dir / finit_file_name\n",
    "    \n",
    "    # STEP 1: Extract properties from FINIT file for active cells only\n",
    "    extracted_property_dict = extract_properties_from_finit(\n",
    "        finit_file_path = finit_file_path,\n",
    "        keywords = ['PORO', 'PERMX', 'ACTID'],\n",
    "        is_save = False,\n",
    "        save_dir = save_dir,\n",
    "        save_name = finit_file_name.split('.')[0],\n",
    "        show_summary = False\n",
    "    )\n",
    "\n",
    "    # STEP 2: Generate full properties for all cells (filled inactive cells with zeros)\n",
    "    full_property_dict = generate_full_properties(\n",
    "        property_dict = extracted_property_dict,\n",
    "        property_list = ['PORO', 'PERMX'], \n",
    "        total_cells = 989001,\n",
    "        is_save = False,\n",
    "        save_dir = save_dir,\n",
    "        save_name = finit_file_name.split('.')[0],\n",
    "        show_summary = False,\n",
    "        is_j_reversed = True,\n",
    "        grid_shape = (107, 117, 79),\n",
    "        )\n",
    "\n",
    "\n",
    "    # STEP 3: Compress full properties to CMG format (repeated values as N*value)\n",
    "    for key in ['PORO', 'PERMX']:\n",
    "        CMG_format_compress(\n",
    "            array = full_property_dict[key], \n",
    "            keyword = key, \n",
    "            max_line_length = 80,\n",
    "            show_summary = True,\n",
    "            save_dir = save_dir,\n",
    "            save_name = finit_file_name.split('.')[0]\n",
    "        )\n"
   ]
  },
  {
   "cell_type": "code",
   "execution_count": 5,
   "metadata": {},
   "outputs": [
    {
     "name": "stdout",
     "output_type": "stream",
     "text": [
      "[0. 0. 0. ... 0. 0. 0.]\n",
      "(989001,)\n"
     ]
    },
    {
     "data": {
      "text/plain": [
       "array([0., 0., 0., ..., 0., 0., 0.])"
      ]
     },
     "execution_count": 5,
     "metadata": {},
     "output_type": "execute_result"
    }
   ],
   "source": [
    "import numpy as np\n",
    "data_test = np.load('results/full_PORO.npy')\n",
    "\n",
    "print(data_test)\n",
    "\n",
    "print(data_test.shape)\n",
    "\n",
    "data_test\n"
   ]
  },
  {
   "cell_type": "code",
   "execution_count": 6,
   "metadata": {},
   "outputs": [
    {
     "name": "stdout",
     "output_type": "stream",
     "text": [
      "Rearrangement complete. Saved as results/full_PORO_j_reversed.npy\n"
     ]
    }
   ],
   "source": [
    "import numpy as np\n",
    "\n",
    "# Define the shape\n",
    "shape = (107, 117, 79)\n",
    "\n",
    "# Load the 1D array\n",
    "arr_1d = np.load('results/full_PORO.npy')\n",
    "\n",
    "# Reshape to 3D\n",
    "arr_3d = arr_1d.reshape(shape)\n",
    "\n",
    "# Flip the j-axis (axis=1)\n",
    "arr_3d_flipped = arr_3d[:, ::-1, :]\n",
    "\n",
    "# Flatten back to 1D (row-major order, which matches the original)\n",
    "arr_1d_flipped = arr_3d_flipped.flatten()\n",
    "\n",
    "# Save the rearranged 1D array\n",
    "np.save('results/full_PORO_j_reversed.npy', arr_1d_flipped)\n",
    "\n",
    "print(\"Rearrangement complete. Saved as results/full_PORO_j_reversed.npy\")"
   ]
  }
 ],
 "metadata": {
  "kernelspec": {
   "display_name": "base",
   "language": "python",
   "name": "python3"
  },
  "language_info": {
   "codemirror_mode": {
    "name": "ipython",
    "version": 3
   },
   "file_extension": ".py",
   "mimetype": "text/x-python",
   "name": "python",
   "nbconvert_exporter": "python",
   "pygments_lexer": "ipython3",
   "version": "3.12.4"
  }
 },
 "nbformat": 4,
 "nbformat_minor": 2
}
