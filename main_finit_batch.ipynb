{
 "cells": [
  {
   "cell_type": "code",
   "execution_count": 6,
   "metadata": {},
   "outputs": [
    {
     "name": "stdout",
     "output_type": "stream",
     "text": [
      "Total FINIT files copied: 0\n"
     ]
    }
   ],
   "source": [
    "from pathlib import Path\n",
    "import shutil # shutil is still useful for high-level file operations like copy2\n",
    "\n",
    "src_root = Path('data/sim_cases')\n",
    "dst_root = Path('data/finit_files')\n",
    "\n",
    "# Create destination directory if it doesn't exist\n",
    "dst_root.mkdir(parents=True, exist_ok=True) # pathlib's mkdir is very convenient\n",
    "\n",
    "finit_file_names = []\n",
    "\n",
    "# Iterate through each simulation case folder\n",
    "# Using .iterdir() directly on the Path object\n",
    "for case_path in src_root.iterdir():\n",
    "    # .is_dir() is a method on Path objects\n",
    "    if case_path.is_dir():\n",
    "        # Find the finit file (case-insensitive, endswith .FINIT)\n",
    "        # Iterate over files within the case_path directory\n",
    "        for src_file in case_path.iterdir():\n",
    "            # .is_file() to ensure it's a file, not a subdirectory\n",
    "            # .suffix gives the extension, .upper() for case-insensitivity\n",
    "            if src_file.is_file() and src_file.suffix.upper() == '.FINIT':\n",
    "                # .name gives just the filename (e.g., 'CASE_A.FINIT')\n",
    "                dst_file = dst_root / src_file.name # Use / operator to join Path objects\n",
    "                shutil.copy2(src_file, dst_file)\n",
    "                finit_file_names.append(src_file.name) # Append the file name\n",
    "\n",
    "# Print the list of finit file names\n",
    "# print('Copied FINIT files:')\n",
    "# for fname in finit_file_names:\n",
    "#     print(fname)\n",
    "print(f'Total FINIT files copied: {len(finit_file_names)}')"
   ]
  },
  {
   "cell_type": "code",
   "execution_count": 2,
   "metadata": {},
   "outputs": [
    {
     "data": {
      "text/plain": [
       "['JD_BASECASE_2.FINIT', 'JD_BASECASE_1.FINIT']"
      ]
     },
     "execution_count": 2,
     "metadata": {},
     "output_type": "execute_result"
    }
   ],
   "source": [
    "finit_file_names"
   ]
  },
  {
   "cell_type": "code",
   "execution_count": 1,
   "metadata": {},
   "outputs": [],
   "source": [
    "finit_file_names=['JD_BASECASE_26.FINIT']"
   ]
  },
  {
   "cell_type": "code",
   "execution_count": null,
   "metadata": {},
   "outputs": [
    {
     "name": "stdout",
     "output_type": "stream",
     "text": [
      "\n",
      "============================================================\n",
      "COMPRESSED PORO SUMMARY\n",
      "============================================================\n",
      "Compressed 989,001 values into 54393 lines\n",
      "Compression ratio: 18.2:1\n",
      "Total cells: 989,001\n",
      "PORO - Mean: 0.082755\n",
      "PORO - Min: 0.000000\n",
      "PORO - Max: 0.398768\n",
      "Saved compressed PORO data to: results/properties/JD_BASECASE_26_PORO.dat\n",
      "\n",
      "============================================================\n",
      "COMPRESSED PERMX SUMMARY\n",
      "============================================================\n",
      "Compressed 989,001 values into 39154 lines\n",
      "Compression ratio: 25.3:1\n",
      "Total cells: 989,001\n",
      "PERMX - Mean: 78.739363\n",
      "PERMX - Min: 0.000000\n",
      "PERMX - Max: 5000.000000\n",
      "Saved compressed PERMX data to: results/properties/JD_BASECASE_26_PERMX.dat\n"
     ]
    }
   ],
   "source": [
    "from pathlib import Path\n",
    "from extract_properties_from_finit import extract_properties_from_finit\n",
    "from generate_full_properties import generate_full_properties\n",
    "from CMG_format_compress import CMG_format_compress\n",
    "\n",
    "finit_dir = 'data/finit_files2'\n",
    "save_dir = 'results/properties'\n",
    "\n",
    "finit_dir = Path(finit_dir)\n",
    "save_dir = Path(save_dir)\n",
    "save_dir.mkdir(exist_ok=True)\n",
    "\n",
    "for finit_file_name in finit_file_names:\n",
    "    finit_file_path = finit_dir / finit_file_name\n",
    "    \n",
    "    # STEP 1: Extract properties from FINIT file for active cells only\n",
    "    extracted_property_dict = extract_properties_from_finit(\n",
    "        finit_file_path = finit_file_path,\n",
    "        keywords = ['PORO', 'PERMX', 'ACTID'],\n",
    "        is_save = False,\n",
    "        save_dir = save_dir,\n",
    "        save_name = finit_file_name.split('.')[0],\n",
    "        show_summary = False\n",
    "    )\n",
    "\n",
    "    # STEP 2: Generate full properties for all cells (filled inactive cells with zeros)\n",
    "    full_property_dict = generate_full_properties(\n",
    "        property_dict = extracted_property_dict,\n",
    "        property_list = ['PORO', 'PERMX'], \n",
    "        total_cells = 989001,\n",
    "        is_save = True,\n",
    "        save_dir = save_dir,\n",
    "        save_name = finit_file_name.split('.')[0],\n",
    "        # save_name = finit_file_name.split('.')[0]+'_jreversed',\n",
    "        show_summary = False,\n",
    "        is_j_reversed = False,\n",
    "        grid_shape = (107, 117, 79),\n",
    "        )\n",
    "\n",
    "\n",
    "    # STEP 3: Compress full properties to CMG format (repeated values as N*value)\n",
    "    for key in ['PORO', 'PERMX']:\n",
    "        CMG_format_compress(\n",
    "            array = full_property_dict[key], \n",
    "            keyword = key, \n",
    "            max_line_length = 80,\n",
    "            show_summary = True,\n",
    "            save_dir = save_dir,\n",
    "            save_name = finit_file_name.split('.')[0]\n",
    "            # save_name = finit_file_name.split('.')[0]+'_jreversed'\n",
    "        )\n"
   ]
  },
  {
   "cell_type": "code",
   "execution_count": 5,
   "metadata": {},
   "outputs": [
    {
     "name": "stdout",
     "output_type": "stream",
     "text": [
      "Rearrangement complete. Saved as results/full_PORO_j_reversed.npy\n"
     ]
    }
   ],
   "source": [
    "import numpy as np\n",
    "\n",
    "# Define the shape\n",
    "shape = (107, 117, 79)\n",
    "\n",
    "# Load the 1D array\n",
    "arr_1d = np.load('results/full_PORO.npy')\n",
    "\n",
    "# Reshape to 3D\n",
    "arr_3d = arr_1d.reshape(shape)\n",
    "\n",
    "# Flip the j-axis (axis=1)\n",
    "arr_3d_flipped = arr_3d[:, ::-1, :]\n",
    "\n",
    "# Flatten back to 1D (row-major order, which matches the original)\n",
    "arr_1d_flipped = arr_3d_flipped.flatten()\n",
    "\n",
    "# Save the rearranged 1D array\n",
    "np.save('results/full_PORO_j_reversed.npy', arr_1d_flipped)\n",
    "\n",
    "print(\"Rearrangement complete. Saved as results/full_PORO_j_reversed.npy\")"
   ]
  },
  {
   "cell_type": "markdown",
   "metadata": {},
   "source": [
    "# check 1 point"
   ]
  },
  {
   "cell_type": "code",
   "execution_count": 18,
   "metadata": {},
   "outputs": [
    {
     "name": "stdout",
     "output_type": "stream",
     "text": [
      "(989001,)\n",
      "(989001,)\n"
     ]
    }
   ],
   "source": [
    "import numpy as np\n",
    "por26 = np.load('results/properties/JD_BASECASE_26_PORO.npy')\n",
    "por26_jreversed = np.load('results/properties/JD_BASECASE_26_jreversed_PORO.npy')\n",
    "print(por26.shape)\n",
    "print(por26_jreversed.shape)"
   ]
  },
  {
   "cell_type": "code",
   "execution_count": 19,
   "metadata": {},
   "outputs": [
    {
     "data": {
      "text/plain": [
       "0.19873556"
      ]
     },
     "execution_count": 19,
     "metadata": {},
     "output_type": "execute_result"
    }
   ],
   "source": [
    "por26[810000]"
   ]
  },
  {
   "cell_type": "code",
   "execution_count": 39,
   "metadata": {},
   "outputs": [
    {
     "data": {
      "text/plain": [
       "64.70165348670021"
      ]
     },
     "execution_count": 39,
     "metadata": {},
     "output_type": "execute_result"
    }
   ],
   "source": [
    "810000/(107*117)"
   ]
  },
  {
   "cell_type": "code",
   "execution_count": 41,
   "metadata": {},
   "outputs": [
    {
     "data": {
      "text/plain": [
       "8784"
      ]
     },
     "execution_count": 41,
     "metadata": {},
     "output_type": "execute_result"
    }
   ],
   "source": [
    "810000-107*117*64"
   ]
  },
  {
   "cell_type": "code",
   "execution_count": 42,
   "metadata": {},
   "outputs": [
    {
     "data": {
      "text/plain": [
       "82.09345794392523"
      ]
     },
     "execution_count": 42,
     "metadata": {},
     "output_type": "execute_result"
    }
   ],
   "source": [
    "8784/107"
   ]
  },
  {
   "cell_type": "code",
   "execution_count": 44,
   "metadata": {},
   "outputs": [
    {
     "data": {
      "text/plain": [
       "10"
      ]
     },
     "execution_count": 44,
     "metadata": {},
     "output_type": "execute_result"
    }
   ],
   "source": [
    "8784-107*82"
   ]
  },
  {
   "cell_type": "code",
   "execution_count": 16,
   "metadata": {},
   "outputs": [
    {
     "data": {
      "text/plain": [
       "80000"
      ]
     },
     "execution_count": 16,
     "metadata": {},
     "output_type": "execute_result"
    }
   ],
   "source": [
    "107*117*6+107*45+71"
   ]
  },
  {
   "cell_type": "code",
   "execution_count": 46,
   "metadata": {},
   "outputs": [
    {
     "name": "stdout",
     "output_type": "stream",
     "text": [
      "810000\n",
      "804971\n"
     ]
    }
   ],
   "source": [
    "print(107*117*64+107*82+10)\n",
    "print(107*117*64+107*35+10)"
   ]
  },
  {
   "cell_type": "code",
   "execution_count": 19,
   "metadata": {},
   "outputs": [
    {
     "data": {
      "text/plain": [
       "True"
      ]
     },
     "execution_count": 19,
     "metadata": {},
     "output_type": "execute_result"
    }
   ],
   "source": [
    "arr_1d[80000]==arr_1d_flipped[82889]"
   ]
  },
  {
   "cell_type": "code",
   "execution_count": 20,
   "metadata": {},
   "outputs": [
    {
     "name": "stdout",
     "output_type": "stream",
     "text": [
      "0.19873556\n",
      "0.17593764\n",
      "False\n",
      "0.0\n"
     ]
    }
   ],
   "source": [
    "print(por26[810000])\n",
    "print(por26_jreversed[804971])\n",
    "print(por26[810000]==por26_jreversed[804971])\n",
    "print(por26_jreversed[81000])"
   ]
  },
  {
   "cell_type": "code",
   "execution_count": null,
   "metadata": {},
   "outputs": [
    {
     "name": "stdout",
     "output_type": "stream",
     "text": [
      "0.0\n"
     ]
    }
   ],
   "source": []
  },
  {
   "cell_type": "code",
   "execution_count": 35,
   "metadata": {},
   "outputs": [
    {
     "name": "stdout",
     "output_type": "stream",
     "text": [
      "(989001,)\n",
      "75.018707\n"
     ]
    }
   ],
   "source": [
    "import numpy as np\n",
    "perm26 = np.load('results/properties/JD_BASECASE_26_PERMX.npy')\n",
    "print(perm26.shape)\n",
    "print(perm26[71000])"
   ]
  },
  {
   "cell_type": "code",
   "execution_count": 34,
   "metadata": {},
   "outputs": [
    {
     "name": "stdout",
     "output_type": "stream",
     "text": [
      "(989001,)\n",
      "True\n",
      "75.018707\n"
     ]
    }
   ],
   "source": [
    "import numpy as np\n",
    "perm26_jreversed = np.load('results/properties/JD_BASECASE_26_PERMX_jreversed.npy')\n",
    "print(perm26_jreversed.shape)\n",
    "print(perm26[80000]==perm26_jreversed[82889])\n",
    "print(perm26_jreversed[82889])"
   ]
  },
  {
   "cell_type": "markdown",
   "metadata": {},
   "source": [
    "# test using simple arrary"
   ]
  },
  {
   "cell_type": "code",
   "execution_count": 61,
   "metadata": {},
   "outputs": [
    {
     "data": {
      "text/plain": [
       "array([ 1,  2,  3,  4,  5,  6,  7,  8,  9, 10, 11, 12, 13, 14, 15, 16, 17,\n",
       "       18, 19, 20, 21, 22, 23, 24])"
      ]
     },
     "execution_count": 61,
     "metadata": {},
     "output_type": "execute_result"
    }
   ],
   "source": [
    "arr_shape=(2,3,4)\n",
    "arr=np.arange(1,25)\n",
    "arr"
   ]
  },
  {
   "cell_type": "code",
   "execution_count": 70,
   "metadata": {},
   "outputs": [
    {
     "data": {
      "text/plain": [
       "array([[[ 1,  2],\n",
       "        [ 3,  4],\n",
       "        [ 5,  6]],\n",
       "\n",
       "       [[ 7,  8],\n",
       "        [ 9, 10],\n",
       "        [11, 12]],\n",
       "\n",
       "       [[13, 14],\n",
       "        [15, 16],\n",
       "        [17, 18]],\n",
       "\n",
       "       [[19, 20],\n",
       "        [21, 22],\n",
       "        [23, 24]]])"
      ]
     },
     "execution_count": 70,
     "metadata": {},
     "output_type": "execute_result"
    }
   ],
   "source": [
    "arr3d=arr.reshape(arr_shape[2],arr_shape[1],arr_shape[0])\n",
    "arr3d"
   ]
  },
  {
   "cell_type": "code",
   "execution_count": 71,
   "metadata": {},
   "outputs": [
    {
     "data": {
      "text/plain": [
       "array([[[ 5,  6],\n",
       "        [ 3,  4],\n",
       "        [ 1,  2]],\n",
       "\n",
       "       [[11, 12],\n",
       "        [ 9, 10],\n",
       "        [ 7,  8]],\n",
       "\n",
       "       [[17, 18],\n",
       "        [15, 16],\n",
       "        [13, 14]],\n",
       "\n",
       "       [[23, 24],\n",
       "        [21, 22],\n",
       "        [19, 20]]])"
      ]
     },
     "execution_count": 71,
     "metadata": {},
     "output_type": "execute_result"
    }
   ],
   "source": [
    "arr3d_reversed=arr3d[:,::-1,:]\n",
    "arr3d_reversed"
   ]
  },
  {
   "cell_type": "code",
   "execution_count": 72,
   "metadata": {},
   "outputs": [
    {
     "data": {
      "text/plain": [
       "array([ 1,  2,  3,  4,  5,  6,  7,  8,  9, 10, 11, 12, 13, 14, 15, 16, 17,\n",
       "       18, 19, 20, 21, 22, 23, 24])"
      ]
     },
     "execution_count": 72,
     "metadata": {},
     "output_type": "execute_result"
    }
   ],
   "source": [
    "arr3d1d=arr3d.flatten()\n",
    "arr3d1d"
   ]
  },
  {
   "cell_type": "code",
   "execution_count": 73,
   "metadata": {},
   "outputs": [
    {
     "data": {
      "text/plain": [
       "array([ 5,  6,  3,  4,  1,  2, 11, 12,  9, 10,  7,  8, 17, 18, 15, 16, 13,\n",
       "       14, 23, 24, 21, 22, 19, 20])"
      ]
     },
     "execution_count": 73,
     "metadata": {},
     "output_type": "execute_result"
    }
   ],
   "source": [
    "arr3d1d_reversed=arr3d_reversed.flatten()\n",
    "arr3d1d_reversed"
   ]
  },
  {
   "cell_type": "markdown",
   "metadata": {},
   "source": [
    "# mannual j reverse"
   ]
  },
  {
   "cell_type": "code",
   "execution_count": 21,
   "metadata": {},
   "outputs": [
    {
     "name": "stdout",
     "output_type": "stream",
     "text": [
      "(989001,)\n",
      "(989001,)\n"
     ]
    }
   ],
   "source": [
    "import numpy as np\n",
    "por = np.load('results/properties/JD_BASECASE_26_PORO.npy')\n",
    "por_jreversed = np.load('results/properties/JD_BASECASE_26_jreversed_PORO.npy')\n",
    "print(por.shape)\n",
    "print(por_jreversed.shape)"
   ]
  },
  {
   "cell_type": "code",
   "execution_count": 22,
   "metadata": {},
   "outputs": [
    {
     "name": "stdout",
     "output_type": "stream",
     "text": [
      "0.19873556\n",
      "0.17593764\n",
      "False\n",
      "0.0\n"
     ]
    }
   ],
   "source": [
    "por_shape=(107,117,79)\n",
    "por3d=por.reshape(por_shape[2],por_shape[1],por_shape[0])\n",
    "por3d=por3d[:,::-1,:]\n",
    "por3d_1d=por3d.flatten()\n",
    "\n",
    "print(por[810000])\n",
    "print(por3d_1d[804971])\n",
    "print(por[810000]==por3d_1d[804971])\n",
    "print(por3d_1d[81000])"
   ]
  }
 ],
 "metadata": {
  "kernelspec": {
   "display_name": "base",
   "language": "python",
   "name": "python3"
  },
  "language_info": {
   "codemirror_mode": {
    "name": "ipython",
    "version": 3
   },
   "file_extension": ".py",
   "mimetype": "text/x-python",
   "name": "python",
   "nbconvert_exporter": "python",
   "pygments_lexer": "ipython3",
   "version": "3.12.4"
  }
 },
 "nbformat": 4,
 "nbformat_minor": 2
}
