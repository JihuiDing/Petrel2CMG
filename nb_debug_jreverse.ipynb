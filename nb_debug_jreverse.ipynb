{
 "cells": [
  {
   "cell_type": "markdown",
   "id": "785d5733",
   "metadata": {},
   "source": [
    "# decompress petrel exported por and check with petrl"
   ]
  },
  {
   "cell_type": "code",
   "execution_count": 1,
   "id": "ac8a258c",
   "metadata": {},
   "outputs": [],
   "source": [
    "from CMG_format_decompress import CMG_format_decompress\n",
    "import numpy as np\n",
    "from pathlib import Path"
   ]
  },
  {
   "cell_type": "code",
   "execution_count": 70,
   "id": "2197004c",
   "metadata": {},
   "outputs": [
    {
     "data": {
      "text/plain": [
       "(989001,)"
      ]
     },
     "execution_count": 70,
     "metadata": {},
     "output_type": "execute_result"
    }
   ],
   "source": [
    "file_path = Path('data/petrel_export_por/case38_por.GRDECL')\n",
    "por_decompressed = CMG_format_decompress(file_path)\n",
    "por_decompressed.shape"
   ]
  },
  {
   "cell_type": "code",
   "execution_count": 77,
   "id": "3a4714a4",
   "metadata": {},
   "outputs": [
    {
     "name": "stdout",
     "output_type": "stream",
     "text": [
      "0.188128\n"
     ]
    }
   ],
   "source": [
    "gridi = 41; gridj = 62; gridk = 70\n",
    "p1=107*117*(gridk-1) + 107*(117-gridj) + gridi -1\n",
    "print(por_decompressed[p1])\n"
   ]
  },
  {
   "cell_type": "code",
   "execution_count": 60,
   "id": "a50a11f8",
   "metadata": {},
   "outputs": [
    {
     "name": "stdout",
     "output_type": "stream",
     "text": [
      "(6149,)\n",
      "6149\n"
     ]
    }
   ],
   "source": [
    "#petrel grid (50,60,1), after export, grid (50,117-60,1)\n",
    "file_path2 = Path('data/petrel_export_por/case38_JD_por.GRDECL')\n",
    "por_decompressed2 = CMG_format_decompress(file_path2)\n",
    "print(por_decompressed2.shape)\n",
    "print(107*57+50)"
   ]
  },
  {
   "cell_type": "code",
   "execution_count": 61,
   "id": "8a353c7c",
   "metadata": {},
   "outputs": [
    {
     "name": "stdout",
     "output_type": "stream",
     "text": [
      "(8259,)\n",
      "8259\n"
     ]
    }
   ],
   "source": [
    "#petrel grid (20,40,1), after export, grid (50,117-40,1)\n",
    "file_path3 = Path('data/petrel_export_por/case38_JD_por2.GRDECL')\n",
    "por_decompressed3 = CMG_format_decompress(file_path3)\n",
    "print(por_decompressed3.shape)\n",
    "print(107*77+20)"
   ]
  },
  {
   "cell_type": "markdown",
   "id": "cc6968d6",
   "metadata": {},
   "source": [
    "# check por extracted from FINIT"
   ]
  },
  {
   "cell_type": "code",
   "execution_count": null,
   "id": "d88a1a43",
   "metadata": {},
   "outputs": [
    {
     "name": "stdout",
     "output_type": "stream",
     "text": [
      "(989001,)\n",
      "(989001,)\n"
     ]
    }
   ],
   "source": [
    "por38 = np.load('results/properties/JD_BASECASE_38_PORO.npy')\n",
    "por38_jreversed = np.load('results/properties/JD_BASECASE_38_jreversed_PORO.npy')\n",
    "print(por38.shape)\n",
    "print(por38_jreversed.shape)"
   ]
  },
  {
   "cell_type": "code",
   "execution_count": 78,
   "id": "4dadc26b",
   "metadata": {},
   "outputs": [
    {
     "name": "stdout",
     "output_type": "stream",
     "text": [
      "0.21588497\n"
     ]
    }
   ],
   "source": [
    "gridi = 41; gridj = 62; gridk = 70\n",
    "p1=107*117*(gridk-1) + 107*(117-gridj) + gridi -1\n",
    "print(por38[p1])"
   ]
  },
  {
   "cell_type": "code",
   "execution_count": 79,
   "id": "d0152251",
   "metadata": {},
   "outputs": [
    {
     "name": "stdout",
     "output_type": "stream",
     "text": [
      "0.22952856\n"
     ]
    }
   ],
   "source": [
    "gridi = 41; gridj = 62; gridk = 70\n",
    "p1=107*117*(gridk-1) + 107*(gridj-1) + gridi -1\n",
    "print(por38[p1])"
   ]
  },
  {
   "cell_type": "code",
   "execution_count": 80,
   "id": "99bf5185",
   "metadata": {},
   "outputs": [
    {
     "name": "stdout",
     "output_type": "stream",
     "text": [
      "0.29033941\n"
     ]
    }
   ],
   "source": [
    "gridi = 41; gridj = 62; gridk = 70\n",
    "p1=107*117*(gridk-1) + 117*(gridi-1) + gridj -1\n",
    "print(por38[p1])"
   ]
  },
  {
   "cell_type": "code",
   "execution_count": 81,
   "id": "0ac9c41f",
   "metadata": {},
   "outputs": [
    {
     "name": "stdout",
     "output_type": "stream",
     "text": [
      "0.31255639\n"
     ]
    }
   ],
   "source": [
    "gridi = 41; gridj = 62; gridk = 70\n",
    "p1=107*117*(gridk-1) + 117*(107-gridi) + gridj -1\n",
    "print(por38[p1])"
   ]
  },
  {
   "cell_type": "code",
   "execution_count": null,
   "id": "40ad78e6",
   "metadata": {},
   "outputs": [],
   "source": []
  },
  {
   "cell_type": "markdown",
   "id": "8e86ab52",
   "metadata": {},
   "source": [
    "# find a known grid cell por(20,40,2)=0.8888 in a Petrel exported por using cell origin (I=0, J=max, K)"
   ]
  },
  {
   "cell_type": "markdown",
   "id": "fbf7f81e",
   "metadata": {},
   "source": [
    "Conclusion: when exporting properties from Petrel using cell origin (I=0, J=max, K), A cell (i, j, k) in Petrel corresponds to (i, j, k) in the exported file."
   ]
  },
  {
   "cell_type": "code",
   "execution_count": 7,
   "id": "1dc28a39",
   "metadata": {},
   "outputs": [
    {
     "name": "stdout",
     "output_type": "stream",
     "text": [
      "(989001,)\n",
      "(array([16711]),)\n"
     ]
    }
   ],
   "source": [
    "from CMG_format_decompress import CMG_format_decompress\n",
    "import numpy as np\n",
    "from pathlib import Path\n",
    "\n",
    "file_path2 = Path('data/debug_jreverse/case38_JD_por3_jmax.GRDECL')\n",
    "por_decompressed2 = CMG_format_decompress(file_path2)\n",
    "print(por_decompressed2.shape)\n",
    "idx = np.where(por_decompressed2==0.8888)\n",
    "print(idx)"
   ]
  },
  {
   "cell_type": "code",
   "execution_count": 8,
   "id": "317d8045",
   "metadata": {},
   "outputs": [
    {
     "name": "stdout",
     "output_type": "stream",
     "text": [
      "[1.33485103]\n",
      "[39.17757009]\n",
      "[19]\n"
     ]
    }
   ],
   "source": [
    "print(idx[0]/(107*117))\n",
    "print((idx[0]-(107*117))/107)\n",
    "print((idx[0]-(107*117))%107)"
   ]
  },
  {
   "cell_type": "code",
   "execution_count": 9,
   "id": "db849611",
   "metadata": {},
   "outputs": [
    {
     "name": "stdout",
     "output_type": "stream",
     "text": [
      "0.8888\n"
     ]
    }
   ],
   "source": [
    "gridi = 20; gridj = 40; gridk = 2\n",
    "p1=107*117*(gridk-1) + 107*(gridj-1) + gridi -1\n",
    "print(por_decompressed2[p1])"
   ]
  },
  {
   "cell_type": "markdown",
   "id": "85f458c9",
   "metadata": {},
   "source": [
    "# test reversing j colums uisng a simple array"
   ]
  },
  {
   "cell_type": "markdown",
   "id": "80c19412",
   "metadata": {},
   "source": [
    "Note: Petrel export traverse i first then j. Numpy flatten for 3d array follows rows"
   ]
  },
  {
   "cell_type": "code",
   "execution_count": 154,
   "id": "bb64e728",
   "metadata": {},
   "outputs": [
    {
     "data": {
      "text/plain": [
       "array([ 1,  2,  3,  4,  5,  6,  7,  8,  9, 10, 11, 12, 13, 14, 15, 16, 17,\n",
       "       18, 19, 20, 21, 22, 23, 24])"
      ]
     },
     "execution_count": 154,
     "metadata": {},
     "output_type": "execute_result"
    }
   ],
   "source": [
    "arr_shape=(2,3,4)\n",
    "arr=np.arange(1,25)\n",
    "arr"
   ]
  },
  {
   "cell_type": "code",
   "execution_count": 155,
   "id": "3c829156",
   "metadata": {},
   "outputs": [
    {
     "data": {
      "text/plain": [
       "array([[[ 1,  3,  5],\n",
       "        [ 2,  4,  6]],\n",
       "\n",
       "       [[ 7,  9, 11],\n",
       "        [ 8, 10, 12]],\n",
       "\n",
       "       [[13, 15, 17],\n",
       "        [14, 16, 18]],\n",
       "\n",
       "       [[19, 21, 23],\n",
       "        [20, 22, 24]]])"
      ]
     },
     "execution_count": 155,
     "metadata": {},
     "output_type": "execute_result"
    }
   ],
   "source": [
    "arr3d=arr.reshape(arr_shape[2],arr_shape[1],arr_shape[0])\n",
    "arr3d = np.transpose(arr3d, axes=(0, 2, 1))\n",
    "arr3d"
   ]
  },
  {
   "cell_type": "code",
   "execution_count": 156,
   "id": "f0984687",
   "metadata": {},
   "outputs": [
    {
     "data": {
      "text/plain": [
       "array([[[ 5,  3,  1],\n",
       "        [ 6,  4,  2]],\n",
       "\n",
       "       [[11,  9,  7],\n",
       "        [12, 10,  8]],\n",
       "\n",
       "       [[17, 15, 13],\n",
       "        [18, 16, 14]],\n",
       "\n",
       "       [[23, 21, 19],\n",
       "        [24, 22, 20]]])"
      ]
     },
     "execution_count": 156,
     "metadata": {},
     "output_type": "execute_result"
    }
   ],
   "source": [
    "arr3d = arr3d[:, :, ::-1]\n",
    "arr3d"
   ]
  },
  {
   "cell_type": "code",
   "execution_count": 157,
   "id": "fa8a4e0f",
   "metadata": {},
   "outputs": [
    {
     "data": {
      "text/plain": [
       "array([[[ 5,  6],\n",
       "        [ 3,  4],\n",
       "        [ 1,  2]],\n",
       "\n",
       "       [[11, 12],\n",
       "        [ 9, 10],\n",
       "        [ 7,  8]],\n",
       "\n",
       "       [[17, 18],\n",
       "        [15, 16],\n",
       "        [13, 14]],\n",
       "\n",
       "       [[23, 24],\n",
       "        [21, 22],\n",
       "        [19, 20]]])"
      ]
     },
     "execution_count": 157,
     "metadata": {},
     "output_type": "execute_result"
    }
   ],
   "source": [
    "arr3d = np.transpose(arr3d, axes=(0, 2, 1))\n",
    "arr3d"
   ]
  },
  {
   "cell_type": "code",
   "execution_count": 158,
   "id": "feb092ad",
   "metadata": {},
   "outputs": [
    {
     "data": {
      "text/plain": [
       "array([ 5,  6,  3,  4,  1,  2, 11, 12,  9, 10,  7,  8, 17, 18, 15, 16, 13,\n",
       "       14, 23, 24, 21, 22, 19, 20])"
      ]
     },
     "execution_count": 158,
     "metadata": {},
     "output_type": "execute_result"
    }
   ],
   "source": [
    "arr3d.flatten()"
   ]
  },
  {
   "cell_type": "markdown",
   "id": "97c71698",
   "metadata": {},
   "source": [
    "# convert the Petrel exported por with a known grid cell por(20,40,2)=0.8888"
   ]
  },
  {
   "cell_type": "markdown",
   "id": "13e2a149",
   "metadata": {},
   "source": [
    "Note: after reversing j columns, the location of a grid cell (i,j,k) (before reversing) after flattening into a 1d array is calculated as idx = 107*117*(k-1) + 107*(117-j) + i -1"
   ]
  },
  {
   "cell_type": "code",
   "execution_count": null,
   "id": "4e663af3",
   "metadata": {},
   "outputs": [
    {
     "data": {
      "text/plain": [
       "(989001,)"
      ]
     },
     "execution_count": 10,
     "metadata": {},
     "output_type": "execute_result"
    }
   ],
   "source": [
    "grid_shape=(107,117,79)\n",
    "full_property = por_decompressed2.reshape(grid_shape[2], grid_shape[1], grid_shape[0])\n",
    "full_property = np.transpose(full_property, axes=(0, 2, 1))\n",
    "full_property = full_property[:, :, ::-1] # reverse j-direction\n",
    "full_property = np.transpose(full_property, axes=(0, 2, 1))\n",
    "full_property = full_property.flatten() # flatten back to 1D array\n",
    "full_property.shape"
   ]
  },
  {
   "cell_type": "code",
   "execution_count": 11,
   "id": "db941752",
   "metadata": {},
   "outputs": [
    {
     "name": "stdout",
     "output_type": "stream",
     "text": [
      "20777\n",
      "0.8888\n"
     ]
    }
   ],
   "source": [
    "gridi = 20; gridj = 40; gridk = 2\n",
    "p2=107*117*(gridk-1) + 107*(117-gridj) + gridi -1\n",
    "print(p2)\n",
    "print(full_property[p2])"
   ]
  },
  {
   "cell_type": "code",
   "execution_count": 12,
   "id": "07739567",
   "metadata": {},
   "outputs": [
    {
     "name": "stdout",
     "output_type": "stream",
     "text": [
      "(array([20777]),)\n",
      "[1.65963735]\n",
      "[77.17757009]\n",
      "[19]\n"
     ]
    }
   ],
   "source": [
    "idx2=np.where(full_property==0.8888)\n",
    "print(idx2)\n",
    "print(idx2[0]/(107*117))\n",
    "print((idx2[0]-(107*117))/107)\n",
    "print((idx2[0]-(107*117))%107)"
   ]
  }
 ],
 "metadata": {
  "kernelspec": {
   "display_name": "base",
   "language": "python",
   "name": "python3"
  },
  "language_info": {
   "codemirror_mode": {
    "name": "ipython",
    "version": 3
   },
   "file_extension": ".py",
   "mimetype": "text/x-python",
   "name": "python",
   "nbconvert_exporter": "python",
   "pygments_lexer": "ipython3",
   "version": "3.12.4"
  }
 },
 "nbformat": 4,
 "nbformat_minor": 5
}
