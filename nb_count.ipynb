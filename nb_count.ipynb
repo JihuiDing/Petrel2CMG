{
 "cells": [
  {
   "cell_type": "code",
   "execution_count": 7,
   "metadata": {},
   "outputs": [
    {
     "name": "stdout",
     "output_type": "stream",
     "text": [
      "Total: 989,001\n"
     ]
    }
   ],
   "source": [
    "from cmg_counter import count_cmg_data_points, quick_count\n",
    "\n",
    "# Use in your scripts\n",
    "count = quick_count('data/JD_Sula_2025_flow_nontg_permi_all.dat')\n",
    "print(f\"Total: {count:,}\")"
   ]
  }
 ],
 "metadata": {
  "kernelspec": {
   "display_name": "base",
   "language": "python",
   "name": "python3"
  },
  "language_info": {
   "codemirror_mode": {
    "name": "ipython",
    "version": 3
   },
   "file_extension": ".py",
   "mimetype": "text/x-python",
   "name": "python",
   "nbconvert_exporter": "python",
   "pygments_lexer": "ipython3",
   "version": "3.12.4"
  }
 },
 "nbformat": 4,
 "nbformat_minor": 2
}
