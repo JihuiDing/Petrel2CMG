{
 "cells": [
  {
   "cell_type": "markdown",
   "metadata": {},
   "source": [
    "### This notebook validates if the data formated into CMG loadable format after extracting from the FINIT file would match the reference file exported directly from Petrel in the CMG format."
   ]
  },
  {
   "cell_type": "markdown",
   "metadata": {},
   "source": [
    "### Conclusion: based on the following analysis, the functions for extracting, compressing, and decompressing data work as intended. But still there are aparent a small number of cells with different porosity compared with the porosity directly exported from Petrel grid properties. Unpon checking the grid porosity and the porosity in the simulated case, there are missing cells in the porosity of the simulated cases. This is consistent with the analysis that the difference all comes from the inactive cells in the FINIT file."
   ]
  },
  {
   "cell_type": "markdown",
   "metadata": {},
   "source": [
    "### Compare extracted full porosity with reference porosity exported directly from Petrel in the CMG format"
   ]
  },
  {
   "cell_type": "code",
   "execution_count": 8,
   "metadata": {},
   "outputs": [
    {
     "name": "stdout",
     "output_type": "stream",
     "text": [
      "\n",
      "============================================================\n",
      "Comparing reference porosity vs extracted porosity\n",
      "============================================================\n",
      "reference porosity:\n",
      "  Shape: (989001,)\n",
      "  Data type: float64\n",
      "  Size: 989,001 elements\n",
      "  Min: 0.000000\n",
      "  Max: 0.399547\n",
      "  Mean: 0.083026\n",
      "  Non-zero elements: 538,121\n",
      "\n",
      "extracted porosity:\n",
      "  Shape: (989001,)\n",
      "  Data type: float64\n",
      "  Size: 989,001 elements\n",
      "  Min: 0.000000\n",
      "  Max: 0.399547\n",
      "  Mean: 0.082804\n",
      "  Non-zero elements: 537,074\n",
      "\n",
      "Comparing arrays with tolerance: 1e-06\n",
      "  Maximum difference: 3.52e-01\n",
      "  Mean difference: 2.22e-04\n",
      "  Elements with difference > 1e-06: 1,047\n",
      "❌ Arrays are NOT identical!\n",
      "  First 10 different elements:\n",
      "    Index 5446: 0.010000 vs 0.000000 (diff: 1.00e-02)\n",
      "    Index 5447: 0.010000 vs 0.000000 (diff: 1.00e-02)\n",
      "    Index 5553: 0.010000 vs 0.000000 (diff: 1.00e-02)\n",
      "    Index 5554: 0.010000 vs 0.000000 (diff: 1.00e-02)\n",
      "    Index 5659: 0.010000 vs 0.000000 (diff: 1.00e-02)\n",
      "    Index 5660: 0.010000 vs 0.000000 (diff: 1.00e-02)\n",
      "    Index 5661: 0.010000 vs 0.000000 (diff: 1.00e-02)\n",
      "    Index 5765: 0.010000 vs 0.000000 (diff: 1.00e-02)\n",
      "    Index 5766: 0.010000 vs 0.000000 (diff: 1.00e-02)\n",
      "    Index 5767: 0.010000 vs 0.000000 (diff: 1.00e-02)\n",
      "    ... and 1037 more differences\n"
     ]
    }
   ],
   "source": [
    "import numpy as np\n",
    "from compare_full_arrays import compare_full_arrays\n",
    "from CMG_format_decompress import CMG_format_decompress\n",
    "\n",
    "por_reference = CMG_format_decompress('data/fromPetrel_por.GRDECL')\n",
    "por_extracted = np.load('results/full_porosity.npy')\n",
    "\n",
    "compare_results = compare_full_arrays(\n",
    "                    array1 = por_reference, \n",
    "                    array2 = por_extracted,\n",
    "                    tolerance=1e-6, \n",
    "                    file1_name=\"reference porosity\", \n",
    "                    file2_name=\"extracted porosity\",\n",
    "                   )"
   ]
  },
  {
   "cell_type": "code",
   "execution_count": 16,
   "metadata": {},
   "outputs": [
    {
     "name": "stdout",
     "output_type": "stream",
     "text": [
      "0.352216\n",
      "0.0\n"
     ]
    }
   ],
   "source": [
    "cell_id = 584717\n",
    "print(por_reference[cell_id])\n",
    "print(por_extracted[cell_id])"
   ]
  },
  {
   "cell_type": "code",
   "execution_count": 15,
   "metadata": {},
   "outputs": [
    {
     "name": "stdout",
     "output_type": "stream",
     "text": [
      "Max difference: 0.352216\n",
      "Index of max difference: 584717\n"
     ]
    }
   ],
   "source": [
    "# Step 1: Calculate the absolute difference\n",
    "diff = np.abs(por_reference - por_extracted )\n",
    "\n",
    "# Step 2: Find the index of the max difference\n",
    "max_diff_index = np.argmax(diff)\n",
    "\n",
    "print(\"Max difference:\", diff[max_diff_index])\n",
    "print(\"Index of max difference:\", max_diff_index)\n"
   ]
  },
  {
   "cell_type": "markdown",
   "metadata": {},
   "source": [
    "### Compare extracted and compressed porosity"
   ]
  },
  {
   "cell_type": "code",
   "execution_count": 10,
   "metadata": {},
   "outputs": [
    {
     "name": "stdout",
     "output_type": "stream",
     "text": [
      "\n",
      "============================================================\n",
      "Comparing por_extracted vs por_decompressed\n",
      "============================================================\n",
      "por_extracted:\n",
      "  Shape: (989001,)\n",
      "  Data type: float64\n",
      "  Size: 989,001 elements\n",
      "  Min: 0.000000\n",
      "  Max: 0.399547\n",
      "  Mean: 0.082804\n",
      "  Non-zero elements: 537,074\n",
      "\n",
      "por_decompressed:\n",
      "  Shape: (989001,)\n",
      "  Data type: float64\n",
      "  Size: 989,001 elements\n",
      "  Min: 0.000000\n",
      "  Max: 0.399547\n",
      "  Mean: 0.082804\n",
      "  Non-zero elements: 537,074\n",
      "\n",
      "Comparing arrays with tolerance: 1e-10\n",
      "  Maximum difference: 4.20e-09\n",
      "  Mean difference: 1.76e-14\n",
      "  Elements with difference > 1e-10: 14\n",
      "❌ Arrays are NOT identical!\n",
      "  First 10 different elements:\n",
      "    Index 1677: 0.010000 vs 0.010000 (diff: 1.00e-09)\n",
      "    Index 1678: 0.010000 vs 0.010000 (diff: 1.00e-09)\n",
      "    Index 1679: 0.010000 vs 0.010000 (diff: 1.00e-09)\n",
      "    Index 1680: 0.010000 vs 0.010000 (diff: 1.00e-09)\n",
      "    Index 1681: 0.010000 vs 0.010000 (diff: 1.00e-09)\n",
      "    Index 1682: 0.010000 vs 0.010000 (diff: 1.00e-09)\n",
      "    Index 1683: 0.010000 vs 0.010000 (diff: 1.00e-09)\n",
      "    Index 1684: 0.010000 vs 0.010000 (diff: 1.00e-09)\n",
      "    Index 1685: 0.010000 vs 0.010000 (diff: 1.00e-09)\n",
      "    Index 1686: 0.010000 vs 0.010000 (diff: 1.00e-09)\n",
      "    ... and 4 more differences\n"
     ]
    }
   ],
   "source": [
    "import numpy as np\n",
    "from compare_full_arrays import compare_full_arrays\n",
    "from CMG_format_decompress import CMG_format_decompress\n",
    "\n",
    "por_extracted = np.load('results/full_porosity.npy')\n",
    "por_decompressed = CMG_format_decompress('results/compressed_por.dat')\n",
    "compare_results = compare_full_arrays(\n",
    "                    array1 = por_extracted, \n",
    "                    array2 = por_decompressed, \n",
    "                    tolerance=1e-10, \n",
    "                    file1_name=\"por_extracted\", \n",
    "                    file2_name=\"por_decompressed\",\n",
    "                   )"
   ]
  },
  {
   "cell_type": "code",
   "execution_count": 11,
   "metadata": {},
   "outputs": [
    {
     "name": "stdout",
     "output_type": "stream",
     "text": [
      "0.0099999998\n",
      "0.0099999988\n"
     ]
    }
   ],
   "source": [
    "cell_id = 1677\n",
    "print(por_extracted[cell_id])\n",
    "print(por_decompressed[cell_id])"
   ]
  },
  {
   "cell_type": "markdown",
   "metadata": {},
   "source": [
    "### Decompress, compress and compare Petrel exported porosity in the CMG format"
   ]
  },
  {
   "cell_type": "code",
   "execution_count": 12,
   "metadata": {},
   "outputs": [
    {
     "name": "stdout",
     "output_type": "stream",
     "text": [
      "\n",
      "============================================================\n",
      "Comparing por_petrel_decompressed vs por_petrel_decompressed2\n",
      "============================================================\n",
      "por_petrel_decompressed:\n",
      "  Shape: (989001,)\n",
      "  Data type: float64\n",
      "  Size: 989,001 elements\n",
      "  Min: 0.000000\n",
      "  Max: 0.399547\n",
      "  Mean: 0.083026\n",
      "  Non-zero elements: 538,121\n",
      "\n",
      "por_petrel_decompressed2:\n",
      "  Shape: (989001,)\n",
      "  Data type: float64\n",
      "  Size: 989,001 elements\n",
      "  Min: 0.000000\n",
      "  Max: 0.399547\n",
      "  Mean: 0.083026\n",
      "  Non-zero elements: 538,121\n",
      "\n",
      "Comparing arrays with tolerance: 1e-10\n",
      "✅ Arrays are exactly identical!\n"
     ]
    }
   ],
   "source": [
    "from compare_full_arrays import compare_full_arrays\n",
    "from CMG_format_decompress import CMG_format_decompress\n",
    "from CMG_format_compress import CMG_format_compress\n",
    "\n",
    "por_petrel_decompressed = CMG_format_decompress('data/fromPetrel_por.GRDECL')\n",
    "\n",
    "CMG_format_compress(\n",
    "    array = por_petrel_decompressed, \n",
    "    max_line_length = 80,\n",
    "    show_summary = False\n",
    ")\n",
    "\n",
    "por_petrel_decompressed2 = CMG_format_decompress('results/compressed_por.dat')\n",
    "\n",
    "compare_results = compare_full_arrays(\n",
    "                    array1 = por_petrel_decompressed, \n",
    "                    array2 = por_petrel_decompressed2, \n",
    "                    tolerance=1e-10, \n",
    "                    file1_name=\"por_petrel_decompressed\", \n",
    "                    file2_name=\"por_petrel_decompressed2\",\n",
    "                   )"
   ]
  }
 ],
 "metadata": {
  "kernelspec": {
   "display_name": "base",
   "language": "python",
   "name": "python3"
  },
  "language_info": {
   "codemirror_mode": {
    "name": "ipython",
    "version": 3
   },
   "file_extension": ".py",
   "mimetype": "text/x-python",
   "name": "python",
   "nbconvert_exporter": "python",
   "pygments_lexer": "ipython3",
   "version": "3.12.4"
  }
 },
 "nbformat": 4,
 "nbformat_minor": 2
}
