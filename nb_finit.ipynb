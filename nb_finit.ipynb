{
 "cells": [
  {
   "cell_type": "code",
   "execution_count": 1,
   "metadata": {},
   "outputs": [],
   "source": [
    "from extract_properties_from_finit import extract_properties_from_finit\n",
    "\n",
    "# STEP 1: Extract properties from FINIT file for active cells only\n",
    "extracted_property_dict = extract_properties_from_finit(\n",
    "    finit_file_path = 'data/JD_BASECASE3_EXPORT_1.FINIT', \n",
    "    keywords = ['PORO', 'PERMX', 'ACTID'], \n",
    "    is_save = False,\n",
    "    save_dir = 'results',\n",
    "    show_summary = False\n",
    ")\n"
   ]
  },
  {
   "cell_type": "code",
   "execution_count": 2,
   "metadata": {},
   "outputs": [],
   "source": [
    "from generate_full_properties import generate_full_properties\n",
    "\n",
    "# STEP 2: Generate full properties for all cells (filled inactive cells with zeros)\n",
    "full_property_dict = generate_full_properties(\n",
    "    property_dict = extracted_property_dict,\n",
    "    property_list = ['PORO', 'PERMX'], \n",
    "    total_cells = 989001,\n",
    "    is_save = True,\n",
    "    save_dir = 'results',\n",
    "    show_summary = False\n",
    "    )"
   ]
  },
  {
   "cell_type": "code",
   "execution_count": null,
   "metadata": {},
   "outputs": [
    {
     "name": "stdout",
     "output_type": "stream",
     "text": [
      "\n",
      "============================================================\n",
      "COMPRESSED PORO SUMMARY\n",
      "============================================================\n",
      "Compressed 989,001 values into 54594 lines\n",
      "Compression ratio: 18.1:1\n",
      "Total cells: 989,001\n",
      "PORO - Mean: 0.082804\n",
      "PORO - Min: 0.000000\n",
      "PORO - Max: 0.399547\n",
      "Saved compressed PORO data to: results/compressed_PORO.dat\n",
      "\n",
      "============================================================\n",
      "COMPRESSED PERMX SUMMARY\n",
      "============================================================\n",
      "Compressed 989,001 values into 38776 lines\n",
      "Compression ratio: 25.5:1\n",
      "Total cells: 989,001\n",
      "PERMX - Mean: 87.341081\n",
      "PERMX - Min: 0.000000\n",
      "PERMX - Max: 5000.000000\n",
      "Saved compressed PERMX data to: results/compressed_PERMX.dat\n"
     ]
    }
   ],
   "source": [
    "from CMG_format_compress import CMG_format_compress\n",
    "\n",
    "# STEP 3: Compress full properties to CMG format (repeated values as N*value)\n",
    "for key in ['PORO', 'PERMX']:\n",
    "    CMG_format_compress(\n",
    "        array = full_property_dict[key], \n",
    "        keyword = key, \n",
    "        max_line_length = 80,\n",
    "        show_summary = True,\n",
    "        save_dir = 'results',\n",
    "    )\n"
   ]
  },
  {
   "cell_type": "code",
   "execution_count": 2,
   "metadata": {},
   "outputs": [
    {
     "name": "stdout",
     "output_type": "stream",
     "text": [
      "\n",
      "============================================================\n",
      "FULL POROSITY SUMMARY\n",
      "============================================================\n",
      "Total cells: 989,001\n",
      "Active cells: 537,074\n",
      "Active cell IDs data type: int64\n",
      "Porosity values data type: float64\n",
      "Active porosity - Mean: 0.152480\n",
      "Active porosity - Min: 0.000020\n",
      "Active porosity - Max: 0.399547\n",
      "Full porosity - Mean: 0.082804\n",
      "Full porosity - Min: 0.000000\n",
      "Full porosity - Max: 0.399547\n",
      "Saved full porosity data to: results/full_porosity.npy\n",
      "\n",
      "============================================================\n",
      "COMPRESSED SUMMARY\n",
      "============================================================\n",
      "Compressed 989,001 values into 54594 lines\n",
      "Compression ratio: 18.1:1\n",
      "Total cells: 989,001\n",
      "Full porosity - Mean: 0.082804\n",
      "Full porosity - Min: 0.000000\n",
      "Full porosity - Max: 0.399547\n",
      "Saved compressed porosity data to: results/compressed_por.dat\n"
     ]
    }
   ],
   "source": [
    "from delete.generate_full_porosity import generate_full_porosity\n",
    "\n",
    "full_por = generate_full_porosity(\n",
    "    actid_file = \"results/extracted_actid.npy\",\n",
    "    poro_file = \"results/extracted_poro.npy\", \n",
    "    output_file = \"results/full_porosity.npy\",\n",
    "    total_cells = 989001,\n",
    "    show_summary = True\n",
    ")\n",
    "\n",
    "from CMG_format_compress import CMG_format_compress\n",
    "\n",
    "CMG_format_compress(\n",
    "    array = full_por, \n",
    "    max_line_length = 80,\n",
    "    show_summary = True\n",
    ")"
   ]
  }
 ],
 "metadata": {
  "kernelspec": {
   "display_name": "base",
   "language": "python",
   "name": "python3"
  },
  "language_info": {
   "codemirror_mode": {
    "name": "ipython",
    "version": 3
   },
   "file_extension": ".py",
   "mimetype": "text/x-python",
   "name": "python",
   "nbconvert_exporter": "python",
   "pygments_lexer": "ipython3",
   "version": "3.12.4"
  }
 },
 "nbformat": 4,
 "nbformat_minor": 2
}
